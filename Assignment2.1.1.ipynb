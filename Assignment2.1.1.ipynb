{
 "cells": [
  {
   "cell_type": "code",
   "execution_count": 7,
   "metadata": {
    "scrolled": true
   },
   "outputs": [
    {
     "name": "stdout",
     "output_type": "stream",
     "text": [
      "Result through myreduce function is 32301360\n",
      "Result through in-built reduce function is 32301360\n"
     ]
    }
   ],
   "source": [
    "def myreduce(operator,lst1):\n",
    "    value1=lst1[0]\n",
    "    \n",
    "    for i in range(1,len(lst1)):\n",
    "        value1=operator(value1,lst1[i])\n",
    "    return value1\n",
    "        \n",
    "        \n",
    "def add(value1,value2):\n",
    "    value1=value1+value2\n",
    "    return value1\n",
    "def subtract(value1,value2):\n",
    "    value1=value1-value2\n",
    "    return value1\n",
    "def divide(value1,value2):\n",
    "    value1=value1/value2\n",
    "    return value1\n",
    "def multiply(value1,value2):\n",
    "    value1=value1*value2\n",
    "    return value1\n",
    "def pow(value1,value2):\n",
    "    value1=value1**value2\n",
    "    return value1\n",
    "def gt(value1,value2):\n",
    "    if value1 > value2:\n",
    "        value1=value1\n",
    "    else:\n",
    "        value1=value2\n",
    "    return value1\n",
    "def lt(value1,value2):\n",
    "    if value1 < value2:\n",
    "        value1=value1\n",
    "    else:\n",
    "        value1=value2\n",
    "    return value1\n",
    "\n",
    "    \n",
    "l1=[24,34,13,145,21]    \n",
    "finallist=myreduce(multiply,l1)\n",
    "\n",
    "print('Result through myreduce function is %d' %(finallist))\n",
    "\n",
    "\n",
    "from functools import reduce\n",
    "\n",
    "abc=reduce(lambda x,y:x * y,l1)\n",
    "print ('Result through in-built reduce function is %d' %abc)"
   ]
  }
 ],
 "metadata": {
  "kernelspec": {
   "display_name": "Python 3",
   "language": "python",
   "name": "python3"
  },
  "language_info": {
   "codemirror_mode": {
    "name": "ipython",
    "version": 3
   },
   "file_extension": ".py",
   "mimetype": "text/x-python",
   "name": "python",
   "nbconvert_exporter": "python",
   "pygments_lexer": "ipython3",
   "version": "3.6.3"
  }
 },
 "nbformat": 4,
 "nbformat_minor": 2
}
