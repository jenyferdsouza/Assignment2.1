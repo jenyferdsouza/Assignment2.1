{
 "cells": [
  {
   "cell_type": "code",
   "execution_count": 1,
   "metadata": {
    "collapsed": true
   },
   "outputs": [],
   "source": [
    "#Write a Python program to implement your own myfilter() function which works exactly like Python's built-in function filter() "
   ]
  },
  {
   "cell_type": "code",
   "execution_count": 33,
   "metadata": {},
   "outputs": [
    {
     "name": "stdout",
     "output_type": "stream",
     "text": [
      "[21, 3, 34, 12, 41, 74]\n",
      "[21, 3, 41]\n",
      "[21, 3, 34, 12, 41, 74]\n",
      "[34, 12, 74]\n",
      "[21, 3, 34, 12, 41, 74]\n",
      "[3, 41]\n"
     ]
    }
   ],
   "source": [
    "def is_even(num):\n",
    "    if num%2==0:\n",
    "        return num\n",
    "\n",
    "def is_odd(num):\n",
    "    if num%2==1:\n",
    "        return num\n",
    "\n",
    "def is_prime(num):\n",
    "    for i in range(2,num):\n",
    "        if num%i==0:\n",
    "            break\n",
    "    else:\n",
    "        return num\n",
    "    \n",
    "def myfilter(funct,lst1):\n",
    "    print(lst1)\n",
    "    finalist=list()\n",
    "    for i in lst1:\n",
    "        if (not funct(i) is None):\n",
    "            finalist.append(funct(i))\n",
    "    return finalist\n",
    "\n",
    "newlist=[21, 3, 34, 12, 41, 74]\n",
    "\n",
    "abc=myfilter(is_odd,newlist)\n",
    "print(abc)\n",
    "\n",
    "abc=myfilter(is_even,newlist)\n",
    "print(abc)\n",
    "\n",
    "abc=myfilter(is_prime,newlist)\n",
    "print(abc)"
   ]
  }
 ],
 "metadata": {
  "kernelspec": {
   "display_name": "Python 3",
   "language": "python",
   "name": "python3"
  },
  "language_info": {
   "codemirror_mode": {
    "name": "ipython",
    "version": 3
   },
   "file_extension": ".py",
   "mimetype": "text/x-python",
   "name": "python",
   "nbconvert_exporter": "python",
   "pygments_lexer": "ipython3",
   "version": "3.6.3"
  }
 },
 "nbformat": 4,
 "nbformat_minor": 2
}
